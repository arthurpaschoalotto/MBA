{
 "cells": [
  {
   "cell_type": "code",
   "execution_count": 14,
   "metadata": {},
   "outputs": [],
   "source": [
    "import numpy as np #manipulação de matrizes\n",
    "from matplotlib import pyplot as plt\n",
    "# improtação classes Keras (Deep Learning)\n",
    "from keras.datasets import mnist # Datasets\n",
    "from keras.models import Sequential # Classes de modelos\n",
    "from keras.layers import Dense, InputLayer # Estrutura das redes (camadas das redes)\n",
    "from keras.layers import Dropout # CAP5 - estrutura de dropout\n",
    "from keras.utils import np_utils # Utilitaria\n"
   ]
  },
  {
   "cell_type": "code",
   "execution_count": 2,
   "metadata": {},
   "outputs": [
    {
     "name": "stdout",
     "output_type": "stream",
     "text": [
      "(60000, 28, 28)\n",
      "5\n"
     ]
    },
    {
     "data": {
      "image/png": "[encoded data removed]",
      "text/plain": [
       "<Figure size 640x480 with 1 Axes>"
      ]
     },
     "metadata": {},
     "output_type": "display_data"
    }
   ],
   "source": [
    "(X_train, y_train), (X_test, y_test) =  mnist.load_data() # Importando dataset do keras\n",
    "print(X_train.shape) # Tamanho do Vetor\n",
    "\n",
    "first_image = X_train[100] # obtem valor do velor 100\n",
    "# manipulação dos dados da imagem\n",
    "first_image = np.array(first_image, dtype='float')\n",
    "pixels = first_image.reshape((28,28))\n",
    "# exibe a imagem\n",
    "plt.imshow(pixels, cmap='gray')\n",
    "plt.show\n",
    "\n",
    "print(y_train[100]) # Imprime a classe da imagem n 100"
   ]
  },
  {
   "cell_type": "code",
   "execution_count": 3,
   "metadata": {},
   "outputs": [],
   "source": [
    "num_pixels = X_train.shape[1] * X_train.shape[2] # Calacula total de px da imagem\n",
    "num_pixels\n",
    "\n",
    "# transforma os valores dos px em float32\n",
    "X_train2 = X_train.reshape(X_train.shape[0], num_pixels).astype('float32')\n",
    "X_test2 = X_test.reshape(X_test.shape[0], num_pixels).astype('float32')\n",
    "\n",
    "# Normalizando valores, onde o max é 1\n",
    "X_train2 = X_train2 / 255\n",
    "X_test2 = X_test2 / 255\n",
    "\n",
    "# print(first_image) # Imagem em matriz"
   ]
  },
  {
   "cell_type": "code",
   "execution_count": 4,
   "metadata": {},
   "outputs": [
    {
     "name": "stdout",
     "output_type": "stream",
     "text": [
      "10\n",
      "[0. 0. 0. 0. 0. 1. 0. 0. 0. 0.]\n",
      "[0. 0. 0. 0. 0. 0. 1. 0. 0. 0.]\n"
     ]
    }
   ],
   "source": [
    "# transforma os rotulos em vetores de saidas binarias\n",
    "y_test_h = np_utils.to_categorical(y_test)\n",
    "y_train_h = np_utils.to_categorical(y_train)\n",
    "\n",
    "# Obtem o numero de classes do problema (saida)\n",
    "num_classes = y_test_h.shape[1]\n",
    "\n",
    "print(num_classes)\n",
    "print(y_train_h[100])\n",
    "print(y_test_h[100]) "
   ]
  },
  {
   "cell_type": "code",
   "execution_count": 17,
   "metadata": {},
   "outputs": [
    {
     "name": "stdout",
     "output_type": "stream",
     "text": [
      "Model: \"sequential_9\"\n",
      "_________________________________________________________________\n",
      " Layer (type)                Output Shape              Param #   \n",
      "=================================================================\n",
      " dense_12 (Dense)            (None, 1024)              803840    \n",
      "                                                                 \n",
      " dense_13 (Dense)            (None, 2048)              2099200   \n",
      "                                                                 \n",
      " dense_14 (Dense)            (None, 10)                20490     \n",
      "                                                                 \n",
      "=================================================================\n",
      "Total params: 2,923,530\n",
      "Trainable params: 2,923,530\n",
      "Non-trainable params: 0\n",
      "_________________________________________________________________\n"
     ]
    }
   ],
   "source": [
    "# Arquitetura da rede\n",
    "# camadas = 784 x 1024 x 2048 x 10\n",
    "# Pesos -> 1 camada x 2 camada = 802.816\n",
    "# Bias -> valor total de neuronios\n",
    "model = Sequential()\n",
    "model.add(InputLayer(input_shape=num_pixels)) # camada de entrada\n",
    "# Numero de neuronios 1 camada, inicializar pesos, dimensao da camada de entrada, funcao de ativacao\n",
    "model.add(Dense(1024, kernel_initializer='normal', activation='relu'))\n",
    "model.add(Dense(2048, kernel_initializer='normal', activation='relu'))\n",
    "model.add(Dense(num_classes, kernel_initializer='normal', activation='softmax')) # Transforma valores de saida, % softmax\n",
    "model.summary()"
   ]
  },
  {
   "cell_type": "code",
   "execution_count": 24,
   "metadata": {},
   "outputs": [
    {
     "name": "stdout",
     "output_type": "stream",
     "text": [
      "Epoch 1/20\n",
      "600/600 [==============================] - 23s 37ms/step - loss: 0.0154 - accuracy: 0.9969 - val_loss: 0.1752 - val_accuracy: 0.9806\n",
      "Epoch 2/20\n",
      "600/600 [==============================] - 21s 34ms/step - loss: 0.0169 - accuracy: 0.9965 - val_loss: 0.1556 - val_accuracy: 0.9804\n",
      "Epoch 3/20\n",
      "600/600 [==============================] - 21s 35ms/step - loss: 0.0112 - accuracy: 0.9975 - val_loss: 0.1327 - val_accuracy: 0.9842\n",
      "Epoch 4/20\n",
      "600/600 [==============================] - 23s 38ms/step - loss: 0.0059 - accuracy: 0.9986 - val_loss: 0.1606 - val_accuracy: 0.9818\n",
      "Epoch 5/20\n",
      "600/600 [==============================] - 20s 34ms/step - loss: 0.0126 - accuracy: 0.9974 - val_loss: 0.1952 - val_accuracy: 0.9799\n",
      "Epoch 6/20\n",
      "600/600 [==============================] - 19s 32ms/step - loss: 0.0088 - accuracy: 0.9976 - val_loss: 0.1224 - val_accuracy: 0.9831\n",
      "Epoch 7/20\n",
      "600/600 [==============================] - 20s 33ms/step - loss: 0.0100 - accuracy: 0.9977 - val_loss: 0.1725 - val_accuracy: 0.9825\n",
      "Epoch 8/20\n",
      "383/600 [==================>...........] - ETA: 5s - loss: 0.0176 - accuracy: 0.9968"
     ]
    }
   ],
   "source": [
    "model.compile(loss='categorical_crossentropy', optimizer='adam', metrics=['accuracy']) # compila o modelo criado\n",
    "result = model.fit(X_train2, y_train_h, validation_data=(X_test2, y_test_h), epochs=20, verbose=1, batch_size=100) # executa o treinamento"
   ]
  },
  {
   "cell_type": "code",
   "execution_count": null,
   "metadata": {},
   "outputs": [],
   "source": []
  }
 ],
 "metadata": {
  "kernelspec": {
   "display_name": "keras",
   "language": "python",
   "name": "python3"
  },
  "language_info": {
   "codemirror_mode": {
    "name": "ipython",
    "version": 3
   },
   "file_extension": ".py",
   "mimetype": "text/x-python",
   "name": "python",
   "nbconvert_exporter": "python",
   "pygments_lexer": "ipython3",
   "version": "3.9.16"
  },
  "orig_nbformat": 4,
  "vscode": {
   "interpreter": {
    "hash": "4333c633c1d464dab9584bbfb846fbce7e8c2f88934d77fe87933ee69feed428"
   }
  }
 },
 "nbformat": 4,
 "nbformat_minor": 2
}
